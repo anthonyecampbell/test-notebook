{
 "cells": [
  {
   "attachments": {},
   "cell_type": "markdown",
   "metadata": {},
   "source": [
    "# Chicago Weather"
   ]
  },
  {
   "attachments": {},
   "cell_type": "markdown",
   "metadata": {},
   "source": [
    "In this notebook, I'll be fetching Chicago weather and importing it into Pandas."
   ]
  },
  {
   "cell_type": "code",
   "execution_count": 22,
   "metadata": {},
   "outputs": [],
   "source": [
    "%matplotlib inline\n",
    "import pandas as pd\n",
    "import numpy as np\n",
    "\n",
    "API_KEY = \"YOUR_API_KEY\""
   ]
  },
  {
   "attachments": {},
   "cell_type": "markdown",
   "metadata": {},
   "source": [
    "Sample API call"
   ]
  },
  {
   "cell_type": "code",
   "execution_count": 23,
   "metadata": {},
   "outputs": [],
   "source": [
    "import requests\n",
    "location = \"41.8336478,-87.8720476\"\n",
    "params = {\n",
    "  'access_key': API_KEY,\n",
    "  'query': location\n",
    "}\n",
    "\n",
    "api_result = requests.get('http://api.weatherstack.com/current', params)"
   ]
  },
  {
   "cell_type": "code",
   "execution_count": 24,
   "metadata": {},
   "outputs": [
    {
     "data": {
      "text/plain": [
       "{'request': {'type': 'LatLon',\n",
       "  'query': 'Lat 41.83 and Lon -87.87',\n",
       "  'language': 'en',\n",
       "  'unit': 'm'},\n",
       " 'location': {'name': 'La Grange Park',\n",
       "  'country': 'United States of America',\n",
       "  'region': 'Illinois',\n",
       "  'lat': '41.835',\n",
       "  'lon': '-87.862',\n",
       "  'timezone_id': 'America/Chicago',\n",
       "  'localtime': '2023-05-22 20:27',\n",
       "  'localtime_epoch': 1684787220,\n",
       "  'utc_offset': '-5.0'},\n",
       " 'current': {'observation_time': '01:27 AM',\n",
       "  'temperature': 22,\n",
       "  'weather_code': 116,\n",
       "  'weather_icons': ['https://cdn.worldweatheronline.com/images/wsymbols01_png_64/wsymbol_0004_black_low_cloud.png'],\n",
       "  'weather_descriptions': ['Partly cloudy'],\n",
       "  'wind_speed': 19,\n",
       "  'wind_degree': 80,\n",
       "  'wind_dir': 'E',\n",
       "  'pressure': 1019,\n",
       "  'precip': 0,\n",
       "  'humidity': 31,\n",
       "  'cloudcover': 75,\n",
       "  'feelslike': 24,\n",
       "  'uv_index': 6,\n",
       "  'visibility': 16,\n",
       "  'is_day': 'no'}}"
      ]
     },
     "execution_count": 24,
     "metadata": {},
     "output_type": "execute_result"
    }
   ],
   "source": [
    "api_response = api_result.json()\n",
    "api_response"
   ]
  },
  {
   "cell_type": "code",
   "execution_count": 25,
   "metadata": {},
   "outputs": [
    {
     "data": {
      "text/html": [
       "<div>\n",
       "<style scoped>\n",
       "    .dataframe tbody tr th:only-of-type {\n",
       "        vertical-align: middle;\n",
       "    }\n",
       "\n",
       "    .dataframe tbody tr th {\n",
       "        vertical-align: top;\n",
       "    }\n",
       "\n",
       "    .dataframe thead th {\n",
       "        text-align: right;\n",
       "    }\n",
       "</style>\n",
       "<table border=\"1\" class=\"dataframe\">\n",
       "  <thead>\n",
       "    <tr style=\"text-align: right;\">\n",
       "      <th></th>\n",
       "      <th>observation_time</th>\n",
       "      <th>temperature</th>\n",
       "      <th>weather_code</th>\n",
       "      <th>weather_icons</th>\n",
       "      <th>weather_descriptions</th>\n",
       "      <th>wind_speed</th>\n",
       "      <th>wind_degree</th>\n",
       "      <th>wind_dir</th>\n",
       "      <th>pressure</th>\n",
       "      <th>precip</th>\n",
       "      <th>humidity</th>\n",
       "      <th>cloudcover</th>\n",
       "      <th>feelslike</th>\n",
       "      <th>uv_index</th>\n",
       "      <th>visibility</th>\n",
       "      <th>is_day</th>\n",
       "    </tr>\n",
       "  </thead>\n",
       "  <tbody>\n",
       "    <tr>\n",
       "      <th>0</th>\n",
       "      <td>01:27 AM</td>\n",
       "      <td>22</td>\n",
       "      <td>116</td>\n",
       "      <td>https://cdn.worldweatheronline.com/images/wsym...</td>\n",
       "      <td>Partly cloudy</td>\n",
       "      <td>19</td>\n",
       "      <td>80</td>\n",
       "      <td>E</td>\n",
       "      <td>1019</td>\n",
       "      <td>0</td>\n",
       "      <td>31</td>\n",
       "      <td>75</td>\n",
       "      <td>24</td>\n",
       "      <td>6</td>\n",
       "      <td>16</td>\n",
       "      <td>no</td>\n",
       "    </tr>\n",
       "  </tbody>\n",
       "</table>\n",
       "</div>"
      ],
      "text/plain": [
       "  observation_time  temperature  weather_code  \\\n",
       "0         01:27 AM           22           116   \n",
       "\n",
       "                                       weather_icons weather_descriptions  \\\n",
       "0  https://cdn.worldweatheronline.com/images/wsym...        Partly cloudy   \n",
       "\n",
       "   wind_speed  wind_degree wind_dir  pressure  precip  humidity  cloudcover  \\\n",
       "0          19           80        E      1019       0        31          75   \n",
       "\n",
       "   feelslike  uv_index  visibility is_day  \n",
       "0         24         6          16     no  "
      ]
     },
     "execution_count": 25,
     "metadata": {},
     "output_type": "execute_result"
    }
   ],
   "source": [
    "pd.DataFrame(api_response['current'])"
   ]
  }
 ],
 "metadata": {
  "kernelspec": {
   "display_name": "Python 3",
   "language": "python",
   "name": "python3"
  },
  "language_info": {
   "codemirror_mode": {
    "name": "ipython",
    "version": 3
   },
   "file_extension": ".py",
   "mimetype": "text/x-python",
   "name": "python",
   "nbconvert_exporter": "python",
   "pygments_lexer": "ipython3",
   "version": "3.10.4"
  },
  "orig_nbformat": 4
 },
 "nbformat": 4,
 "nbformat_minor": 2
}
